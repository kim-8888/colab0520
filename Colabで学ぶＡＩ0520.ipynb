{
  "nbformat": 4,
  "nbformat_minor": 0,
  "metadata": {
    "colab": {
      "name": "Colabで学ぶＡＩ0520.ipynb",
      "provenance": [],
      "authorship_tag": "ABX9TyMT01nnUPSPJL1RH1tej4Rh",
      "include_colab_link": true
    },
    "kernelspec": {
      "name": "python3",
      "display_name": "Python 3"
    }
  },
  "cells": [
    {
      "cell_type": "markdown",
      "metadata": {
        "id": "view-in-github",
        "colab_type": "text"
      },
      "source": [
        "<a href=\"https://colab.research.google.com/github/kim-8888/colab0520/blob/master/Colab%E3%81%A7%E5%AD%A6%E3%81%B6%EF%BC%A1%EF%BC%A90520.ipynb\" target=\"_parent\"><img src=\"https://colab.research.google.com/assets/colab-badge.svg\" alt=\"Open In Colab\"/></a>"
      ]
    },
    {
      "cell_type": "code",
      "metadata": {
        "id": "dDiqpZstk8eY",
        "colab_type": "code",
        "colab": {}
      },
      "source": [
        ""
      ],
      "execution_count": 0,
      "outputs": []
    },
    {
      "cell_type": "markdown",
      "metadata": {
        "id": "im4hR530lMy2",
        "colab_type": "text"
      },
      "source": [
        "## 数式の代入 LaTeX方式\n",
        "$$y = fx$$"
      ]
    },
    {
      "cell_type": "code",
      "metadata": {
        "id": "D2r2YrRZlW8j",
        "colab_type": "code",
        "colab": {}
      },
      "source": [
        ""
      ],
      "execution_count": 0,
      "outputs": []
    },
    {
      "cell_type": "code",
      "metadata": {
        "id": "b643JLIh65M7",
        "colab_type": "code",
        "colab": {}
      },
      "source": [
        ""
      ],
      "execution_count": 0,
      "outputs": []
    }
  ]
}